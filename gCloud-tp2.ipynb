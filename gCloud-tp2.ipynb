{
 "cells": [
  {
   "cell_type": "code",
   "execution_count": null,
   "metadata": {},
   "outputs": [],
   "source": [
    "!gcloud services enable ml.googleapis.com\n",
    "!gcloud services enable compute.googleapis.com"
   ]
  },
  {
   "cell_type": "code",
   "execution_count": 18,
   "metadata": {},
   "outputs": [
    {
     "name": "stderr",
     "output_type": "stream",
     "text": [
      "/anaconda3/lib/python3.7/site-packages/pandas/core/frame.py:3391: SettingWithCopyWarning: \n",
      "A value is trying to be set on a copy of a slice from a DataFrame.\n",
      "Try using .loc[row_indexer,col_indexer] = value instead\n",
      "\n",
      "See the caveats in the documentation: http://pandas.pydata.org/pandas-docs/stable/indexing.html#indexing-view-versus-copy\n",
      "  self[k1] = value[k2]\n"
     ]
    }
   ],
   "source": [
    "import os\n",
    "import joblib\n",
    "import subprocess\n",
    "import numpy as np\n",
    "import pandas as pd\n",
    "import pickle\n",
    "\n",
    "\n",
    "from sklearn.model_selection import train_test_split\n",
    "\n",
    "from sklearn.compose import ColumnTransformer\n",
    "from sklearn.preprocessing import OneHotEncoder\n",
    "from sklearn.preprocessing import StandardScaler\n",
    "from sklearn.impute import SimpleImputer\n",
    "\n",
    "from sklearn.linear_model import LogisticRegression\n",
    "from sklearn.ensemble import RandomForestClassifier\n",
    "from sklearn.svm import SVC\n",
    "\n",
    "from sklearn.model_selection import GridSearchCV\n",
    "from sklearn.pipeline import Pipeline\n",
    "\n",
    "\n",
    "\n",
    "BUCKET_NAME = 'tp-2'\n",
    "STORAGE_BUCKET = 'tp-2'\n",
    "DATA_PATH = 'bookings.csv'\n",
    "LOCAL_PATH = '/tmp'\n",
    "PROJECT_ID = 'mimetic-setup-296322'\n",
    "\n",
    "\n",
    "df = pd.read_csv('../TP2/bookings.csv')\n",
    "\n",
    "\n",
    "## Transforming dataframe\n",
    "\n",
    "def family(data):\n",
    "    if ((data['adults'] > 0) & (data['children'] > 0)) or ((data['adults'] > 0) & (data['babies'] > 0)) :\n",
    "        val = 1\n",
    "    else:\n",
    "        val = 0\n",
    "    return val\n",
    "\n",
    "def deposit(data):\n",
    "    if ((data['deposit_type'] == 'No Deposit') | (data['deposit_type'] == 'Refundable')):\n",
    "        return 0\n",
    "    else:\n",
    "        return 1\n",
    "def feature(data):\n",
    "    data[\"is_family\"] = data.apply(family, axis = 1)\n",
    "    data[\"total_customer\"] = data[\"adults\"] + data[\"children\"] + data[\"babies\"]\n",
    "    data[\"deposit_given\"] = data.apply(deposit, axis=1)\n",
    "    data[\"total_nights\"] = data[\"stays_in_weekend_nights\"]+ data[\"stays_in_week_nights\"]\n",
    "    return data\n",
    "\n",
    "df = feature(df)\n",
    "df = df.drop(columns = ['company','adults', 'babies', 'children', 'deposit_type', 'reservation_status_date','is_canceled'])\n",
    "\n",
    "# Features \n",
    "categorical_features = list(df.dtypes.where(df.dtypes== object).dropna().index)\n",
    "numeric_features =  list(df.dtypes.where(df.dtypes != object).dropna().index)\n",
    "numeric_features.remove('required_car_parking_spaces')\n",
    "features = numeric_features + categorical_features\n",
    "X = df[features]\n",
    "y= df['required_car_parking_spaces'].apply(lambda x : 1 if x>0 else 0 )\n",
    "\n",
    "\n",
    "# Create a scikit-learn pipeline with preprocessing steps + model\n",
    "numeric_transformer = Pipeline(steps =[('scaler',StandardScaler()),('imputer',SimpleImputer(strategy=\"constant\", fill_value=0))])\n",
    "categorical_transformer = Pipeline(steps=[\n",
    "                                    (\"imputer\", SimpleImputer(strategy=\"constant\", fill_value=\"Not defined\")),\n",
    "                                    (\"onehot\", OneHotEncoder(handle_unknown='ignore'))]) # to deal with missing categorical data \n",
    "preproc = ColumnTransformer(transformers=[(\"num\", numeric_transformer, numeric_features),\n",
    "                                          (\"cat\", categorical_transformer, categorical_features)])\n",
    "\n",
    "# Train the model\n",
    "models = [(\"logreg_with_scale\", LogisticRegression(max_iter=1000)),(\"svc\",SVC()),(\"random_forest\", RandomForestClassifier())]\n",
    "models = [(\"random_forest\", RandomForestClassifier())]\n",
    "\n",
    "\n",
    "grids = {\"logreg_with_scale\" : {'logreg_with_scale__C': np.logspace(-2, 2, 5, base=2)}, \n",
    "         \"svc\" :{'svc__gamma':np.logspace(-4, 1, 10)},\n",
    "         \"random_forest\" : {'random_forest__n_estimators': [500,600,800]}}\n",
    "\n",
    "# cast int to float to avoid Standard scaler error :\n",
    "\n",
    "X[numeric_features] = X[numeric_features].astype(float)"
   ]
  },
  {
   "cell_type": "code",
   "execution_count": 20,
   "metadata": {},
   "outputs": [
    {
     "data": {
      "text/plain": [
       "Index(['lead_time', 'arrival_date_year', 'arrival_date_week_number',\n",
       "       'arrival_date_day_of_month', 'stays_in_weekend_nights',\n",
       "       'stays_in_week_nights', 'is_repeated_guest', 'previous_cancellations',\n",
       "       'previous_bookings_not_canceled', 'booking_changes', 'agent',\n",
       "       'days_in_waiting_list', 'adr', 'total_of_special_requests', 'is_family',\n",
       "       'total_customer', 'deposit_given', 'total_nights', 'hotel',\n",
       "       'arrival_date_month', 'meal', 'country', 'market_segment',\n",
       "       'distribution_channel', 'reserved_room_type', 'assigned_room_type',\n",
       "       'customer_type', 'reservation_status'],\n",
       "      dtype='object')"
      ]
     },
     "execution_count": 20,
     "metadata": {},
     "output_type": "execute_result"
    }
   ],
   "source": [
    "X.columns"
   ]
  },
  {
   "cell_type": "code",
   "execution_count": null,
   "metadata": {},
   "outputs": [],
   "source": [
    "# Calculate a bunch of performance metrics\n",
    "results = pd.DataFrame(\n",
    "    {'accuracy': [accuracy_score(y_train, pred_train),\n",
    "                  accuracy_score(y_test, pred_test)],\n",
    "     'precision': [precision_score(y_train, pred_train, pos_label='yes'),\n",
    "                   precision_score(y_test, pred_test, pos_label='yes')],\n",
    "     'recall': [recall_score(y_train, pred_train, pos_label='yes'),\n",
    "                recall_score(y_test, pred_test, pos_label='yes')],\n",
    "     'f1': [f1_score(y_train, pred_train, pos_label='yes'),\n",
    "            f1_score(y_test, pred_test, pos_label='yes')]},\n",
    "    index=['train', 'test']\n",
    ")\n",
    "\n",
    "results.to_csv(os.path.join(LOCAL_PATH, 'results.csv'))\n",
    "\n",
    "# Upload model and results Dataframe to Storage\n",
    "subprocess.call([\n",
    "    'gsutil', 'cp',\n",
    "    # Local path of the model\n",
    "    os.path.join(LOCAL_PATH, 'model.joblib'),\n",
    "    os.path.join(args.storage_path, 'model.joblib')\n",
    "])\n",
    "subprocess.call([\n",
    "    'gsutil', 'cp',\n",
    "    # Local path of results\n",
    "    os.path.join(LOCAL_PATH, 'results.csv'),\n",
    "    os.path.join(args.storage_path, 'results.csv')\n",
    "])"
   ]
  }
 ],
 "metadata": {
  "kernelspec": {
   "display_name": "Python 3",
   "language": "python",
   "name": "python3"
  },
  "language_info": {
   "codemirror_mode": {
    "name": "ipython",
    "version": 3
   },
   "file_extension": ".py",
   "mimetype": "text/x-python",
   "name": "python",
   "nbconvert_exporter": "python",
   "pygments_lexer": "ipython3",
   "version": "3.7.3"
  }
 },
 "nbformat": 4,
 "nbformat_minor": 4
}
